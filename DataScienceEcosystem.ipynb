{
 "cells": [
  {
   "cell_type": "markdown",
   "id": "d9bb82c5-915b-4f4e-b8ca-0892ff40bfa4",
   "metadata": {},
   "source": [
    "# Data Science Tools and Ecosystem"
   ]
  },
  {
   "cell_type": "markdown",
   "id": "004e6125-9f28-4ef8-b463-4358136bf520",
   "metadata": {},
   "source": [
    "In this notebook, Data Science Tools and Ecosystem are summarized."
   ]
  },
  {
   "cell_type": "markdown",
   "id": "a2e85d1a-c1ae-4f2e-a45a-239d0408a873",
   "metadata": {},
   "source": [
    "**Objectives**:\n",
    "- Some of the popular languages used by Data Scientists;\n",
    "- Some of the commonly used libraries used by Data Scientists;\n",
    "- Learning to perform arithmetic calculations"
   ]
  },
  {
   "cell_type": "markdown",
   "id": "f6db375a-ce08-485b-bb16-f45df8162faa",
   "metadata": {},
   "source": [
    "Some of the popular languages that Data Scientists use are:\n",
    "\n",
    "1. SQL\n",
    "2. Python\n",
    "3. R"
   ]
  },
  {
   "cell_type": "markdown",
   "id": "2b888403-896b-48e7-a9d7-99a779b173db",
   "metadata": {},
   "source": [
    "Some of the commonly used libraries used by Data Scientists include:\n",
    "\n",
    "1. NumPy\n",
    "2. Pandas\n",
    "3. Matplotlib"
   ]
  },
  {
   "cell_type": "markdown",
   "id": "b03f1f7e-532a-49c3-af0c-2476ca974283",
   "metadata": {},
   "source": [
    "| Data Science Tools |\n",
    "|---|\n",
    "|MongoDB |\n",
    "| Apache SparkSQL |\n",
    "| TensorFlow |"
   ]
  },
  {
   "cell_type": "markdown",
   "id": "82eae72c-9a3e-456f-ad8b-9e547afe552c",
   "metadata": {},
   "source": [
    "### Below are a few examples of evaluating arithmetic expressions in Python"
   ]
  },
  {
   "cell_type": "code",
   "execution_count": 2,
   "id": "56ad2b3e-7ac2-4b7c-a4b3-d91a2c1fb253",
   "metadata": {},
   "outputs": [
    {
     "data": {
      "text/plain": [
       "17"
      ]
     },
     "execution_count": 2,
     "metadata": {},
     "output_type": "execute_result"
    }
   ],
   "source": [
    "#This a simple arithmetic expression to mutiply then add integers\n",
    "(3*4)+5"
   ]
  },
  {
   "cell_type": "code",
   "execution_count": 3,
   "id": "0e22d43e-98f3-4c19-9614-6e97c16abf99",
   "metadata": {},
   "outputs": [
    {
     "data": {
      "text/plain": [
       "3.3333333333333335"
      ]
     },
     "execution_count": 3,
     "metadata": {},
     "output_type": "execute_result"
    }
   ],
   "source": [
    "#This will convert 200 minutes to hours by diving by 60\n",
    "\n",
    "200/60"
   ]
  },
  {
   "cell_type": "markdown",
   "id": "7742673d-eb33-4c76-9fff-f5422b5eba7b",
   "metadata": {},
   "source": [
    "## Author"
   ]
  },
  {
   "cell_type": "markdown",
   "id": "084008c4-c942-4e42-82db-5a9e8ec7cd7e",
   "metadata": {},
   "source": [
    "Senate Mothibe"
   ]
  },
  {
   "cell_type": "code",
   "execution_count": null,
   "id": "abd5c3d2-1010-4003-b36b-a4887a24f006",
   "metadata": {},
   "outputs": [],
   "source": []
  }
 ],
 "metadata": {
  "kernelspec": {
   "display_name": "Python 3 (ipykernel)",
   "language": "python",
   "name": "python3"
  },
  "language_info": {
   "codemirror_mode": {
    "name": "ipython",
    "version": 3
   },
   "file_extension": ".py",
   "mimetype": "text/x-python",
   "name": "python",
   "nbconvert_exporter": "python",
   "pygments_lexer": "ipython3",
   "version": "3.12.8"
  }
 },
 "nbformat": 4,
 "nbformat_minor": 5
}
